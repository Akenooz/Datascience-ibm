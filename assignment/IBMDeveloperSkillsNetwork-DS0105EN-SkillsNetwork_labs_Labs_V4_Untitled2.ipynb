{
  "metadata": {
    "language_info": {
      "codemirror_mode": {
        "name": "python",
        "version": 3
      },
      "file_extension": ".py",
      "mimetype": "text/x-python",
      "name": "python",
      "nbconvert_exporter": "python",
      "pygments_lexer": "ipython3",
      "version": "3.8"
    },
    "kernelspec": {
      "name": "python",
      "display_name": "Python (Pyodide)",
      "language": "python"
    }
  },
  "nbformat_minor": 4,
  "nbformat": 4,
  "cells": [
    {
      "cell_type": "markdown",
      "source": "# Data science peer assignment",
      "metadata": {}
    },
    {
      "cell_type": "markdown",
      "source": "Description: This is an assignment submission made by me for adding two given numbers x and y, and finding the product for the same. The next task is to convert given number of minutes into hours.",
      "metadata": {}
    },
    {
      "cell_type": "markdown",
      "source": "Data science languages : We are using python in order to complete this task.",
      "metadata": {}
    },
    {
      "cell_type": "markdown",
      "source": "| Task Description                                | Points  |\n| ----------------------------------------------- | ------- |\n| Write code to multiply two numbers               | 2 pts   |\n| Write code to add two numbers                    | 2 pts   |\n| Create a function to convert minutes to hours   | 2 pts   |\n\n",
      "metadata": {}
    },
    {
      "cell_type": "markdown",
      "source": "For addition : sum = 10 + 7  # Add 10 and 7 and return 17.\nFor Product : product 10 * 7 # Multiply 10 and 7 and return 70.\nFor Minute to hour conversion : Minute = 60 # Convert 60 mins to hours and return 1.",
      "metadata": {}
    },
    {
      "cell_type": "code",
      "source": "x = 3\ny = 2\nsumm = x+y\nproduct = x*y\nsumm,product",
      "metadata": {
        "trusted": true
      },
      "execution_count": 7,
      "outputs": [
        {
          "execution_count": 7,
          "output_type": "execute_result",
          "data": {
            "text/plain": "(5, 6)"
          },
          "metadata": {}
        }
      ]
    },
    {
      "cell_type": "code",
      "source": "x = 180\nhours = x/60\nprint(\"Converted into hours as :\",x)",
      "metadata": {
        "trusted": true
      },
      "execution_count": 8,
      "outputs": [
        {
          "name": "stdout",
          "text": "Converted into hours as : 180\n",
          "output_type": "stream"
        }
      ]
    },
    {
      "cell_type": "markdown",
      "source": "Objectives : Objectives for this notebook was to - 1. Write a code for addition and multiplication of two numbers. \n2. Write a code for conversion of minutes to hour.",
      "metadata": {}
    },
    {
      "cell_type": "markdown",
      "source": "Vatsal Kumar Sharma",
      "metadata": {}
    },
    {
      "cell_type": "code",
      "source": "",
      "metadata": {},
      "execution_count": null,
      "outputs": []
    }
  ]
}